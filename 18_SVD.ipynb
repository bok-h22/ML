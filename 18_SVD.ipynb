{
  "nbformat": 4,
  "nbformat_minor": 0,
  "metadata": {
    "colab": {
      "provenance": [],
      "include_colab_link": true
    },
    "kernelspec": {
      "name": "python3",
      "display_name": "Python 3"
    },
    "language_info": {
      "name": "python"
    }
  },
  "cells": [
    {
      "cell_type": "markdown",
      "metadata": {
        "id": "view-in-github",
        "colab_type": "text"
      },
      "source": [
        "<a href=\"https://colab.research.google.com/github/bok-h22/ML/blob/master/18_SVD.ipynb\" target=\"_parent\"><img src=\"https://colab.research.google.com/assets/colab-badge.svg\" alt=\"Open In Colab\"/></a>"
      ]
    },
    {
      "cell_type": "markdown",
      "source": [
        "# SVD 개요"
      ],
      "metadata": {
        "id": "la0cQCpTJZQ2"
      }
    },
    {
      "cell_type": "code",
      "source": [
        "import numpy as np\n",
        "\n",
        "np.random.seed(121)\n",
        "a = np.random.randn(4, 4)\n",
        "a"
      ],
      "metadata": {
        "colab": {
          "base_uri": "https://localhost:8080/"
        },
        "id": "GvwGyqHTJjv2",
        "outputId": "18eff42f-5bdc-4111-d6a1-689b7150067b"
      },
      "execution_count": null,
      "outputs": [
        {
          "output_type": "execute_result",
          "data": {
            "text/plain": [
              "array([[-0.21203317, -0.28492917, -0.57389821, -0.44031017],\n",
              "       [-0.33011056,  1.18369457,  1.61537293,  0.36706247],\n",
              "       [-0.01411931,  0.6296418 ,  1.70964074, -1.32698736],\n",
              "       [ 0.40187312, -0.19142667,  1.40382596, -1.96876855]])"
            ]
          },
          "metadata": {},
          "execution_count": 1
        }
      ]
    },
    {
      "cell_type": "code",
      "source": [
        "# SVD 행렬 분해\n",
        "U, Sigma, VT = np.linalg.svd(a)\n",
        "\n",
        "print(\"U:\\n{}\".format(U))\n",
        "print()\n",
        "print(\"Sigma:\\n{}\".format(Sigma))\n",
        "print()\n",
        "print(\"VT:\\n{}\".format(VT))"
      ],
      "metadata": {
        "colab": {
          "base_uri": "https://localhost:8080/"
        },
        "id": "tWTqITg3Jq8e",
        "outputId": "7e3dd7e8-cebc-48a0-c7ee-7e9ed358b037"
      },
      "execution_count": null,
      "outputs": [
        {
          "output_type": "stream",
          "name": "stdout",
          "text": [
            "U:\n",
            "[[-0.07913928 -0.31822729  0.86653217  0.37628494]\n",
            " [ 0.38294523  0.78655287  0.12002097  0.46934262]\n",
            " [ 0.65640669  0.02243181  0.35668848 -0.66437971]\n",
            " [ 0.64515128 -0.52873697 -0.32785711  0.44353889]]\n",
            "\n",
            "Sigma:\n",
            "[3.4229581  2.02287339 0.46263157 0.07935069]\n",
            "\n",
            "VT:\n",
            "[[ 0.04100747  0.22367823  0.78643002 -0.57429458]\n",
            " [-0.20019867  0.56209596  0.37041464  0.71187191]\n",
            " [-0.77847455  0.3945136  -0.33259252 -0.3573774 ]\n",
            " [-0.5934781  -0.69164673  0.36565426  0.18895901]]\n"
          ]
        }
      ]
    },
    {
      "cell_type": "code",
      "source": [
        "# 특잇값 Sigma를 대각행렬로 변환\n",
        "Sigma_mat = np.diag(Sigma)\n",
        "Sigma_mat"
      ],
      "metadata": {
        "colab": {
          "base_uri": "https://localhost:8080/"
        },
        "id": "kFP-R5DSKV1X",
        "outputId": "167d7729-7b2d-497f-868b-c9e6d90ff81b"
      },
      "execution_count": null,
      "outputs": [
        {
          "output_type": "execute_result",
          "data": {
            "text/plain": [
              "array([[3.4229581 , 0.        , 0.        , 0.        ],\n",
              "       [0.        , 2.02287339, 0.        , 0.        ],\n",
              "       [0.        , 0.        , 0.46263157, 0.        ],\n",
              "       [0.        , 0.        , 0.        , 0.07935069]])"
            ]
          },
          "metadata": {},
          "execution_count": 3
        }
      ]
    },
    {
      "cell_type": "code",
      "source": [
        "print(\"원본 행렬 a:\\n{}\".format(a))"
      ],
      "metadata": {
        "colab": {
          "base_uri": "https://localhost:8080/"
        },
        "id": "Dh_Ue-srKw3m",
        "outputId": "6e678cfe-4306-4bf4-9b6c-b33644d59b8b"
      },
      "execution_count": null,
      "outputs": [
        {
          "output_type": "stream",
          "name": "stdout",
          "text": [
            "원본 행렬 a:\n",
            "[[-0.21203317 -0.28492917 -0.57389821 -0.44031017]\n",
            " [-0.33011056  1.18369457  1.61537293  0.36706247]\n",
            " [-0.01411931  0.6296418   1.70964074 -1.32698736]\n",
            " [ 0.40187312 -0.19142667  1.40382596 -1.96876855]]\n"
          ]
        }
      ]
    },
    {
      "cell_type": "code",
      "source": [
        "# U, Sigma_mat, VT를 이용해 다시 조합\n",
        "a_ = U @ Sigma_mat @ VT\n",
        "print(\"조합된 행렬 a_:\\n{}\".format(a_))"
      ],
      "metadata": {
        "colab": {
          "base_uri": "https://localhost:8080/"
        },
        "id": "osk1wcAkK3rW",
        "outputId": "7cdd3b60-255a-44d3-cd99-ba84045b382a"
      },
      "execution_count": null,
      "outputs": [
        {
          "output_type": "stream",
          "name": "stdout",
          "text": [
            "조합된 행렬 a_:\n",
            "[[-0.21203317 -0.28492917 -0.57389821 -0.44031017]\n",
            " [-0.33011056  1.18369457  1.61537293  0.36706247]\n",
            " [-0.01411931  0.6296418   1.70964074 -1.32698736]\n",
            " [ 0.40187312 -0.19142667  1.40382596 -1.96876855]]\n"
          ]
        }
      ]
    },
    {
      "cell_type": "code",
      "source": [
        "# truncated Sigma_mat. 설명력이 높은 특잇값이 상위 2개면 될 것 같으니까 2개를 사용\n",
        "Sigma_truncated = np.diag(Sigma[:2])\n",
        "Sigma_truncated"
      ],
      "metadata": {
        "colab": {
          "base_uri": "https://localhost:8080/"
        },
        "id": "RMz9U4XpLC9u",
        "outputId": "b2f98220-9b57-4ea3-f500-5cbeab63d1ad"
      },
      "execution_count": null,
      "outputs": [
        {
          "output_type": "execute_result",
          "data": {
            "text/plain": [
              "array([[3.4229581 , 0.        ],\n",
              "       [0.        , 2.02287339]])"
            ]
          },
          "metadata": {},
          "execution_count": 6
        }
      ]
    },
    {
      "cell_type": "code",
      "source": [
        "# truncated U : 잠재변수에(Sigma - 특잇값 2개) 대응되는 기저벡터 얻어내기\n",
        "U_truncated = U[:, :2]\n",
        "U_truncated"
      ],
      "metadata": {
        "colab": {
          "base_uri": "https://localhost:8080/"
        },
        "id": "1TOdvC25MvpQ",
        "outputId": "8ac2c388-e447-4be6-a6ff-e18069828c6b"
      },
      "execution_count": null,
      "outputs": [
        {
          "output_type": "execute_result",
          "data": {
            "text/plain": [
              "array([[-0.07913928, -0.31822729],\n",
              "       [ 0.38294523,  0.78655287],\n",
              "       [ 0.65640669,  0.02243181],\n",
              "       [ 0.64515128, -0.52873697]])"
            ]
          },
          "metadata": {},
          "execution_count": 7
        }
      ]
    },
    {
      "cell_type": "code",
      "source": [
        "# truncated VT : 원래 데이터를 복구 하기 위해서 2개의 벡터만 사용한다.\n",
        "VT_truncated = VT[:2]\n",
        "VT_truncated"
      ],
      "metadata": {
        "colab": {
          "base_uri": "https://localhost:8080/"
        },
        "id": "qw6FA9YmNG2P",
        "outputId": "6d0b7259-cf20-4427-b2ba-fcaed3fbe712"
      },
      "execution_count": null,
      "outputs": [
        {
          "output_type": "execute_result",
          "data": {
            "text/plain": [
              "array([[ 0.04100747,  0.22367823,  0.78643002, -0.57429458],\n",
              "       [-0.20019867,  0.56209596,  0.37041464,  0.71187191]])"
            ]
          },
          "metadata": {},
          "execution_count": 9
        }
      ]
    },
    {
      "cell_type": "code",
      "source": [
        "# 2개의 잠재변수만을 이용해서 복구\n",
        "a_truncated = U_truncated @ Sigma_truncated @ VT_truncated\n",
        "print(a_truncated)"
      ],
      "metadata": {
        "colab": {
          "base_uri": "https://localhost:8080/"
        },
        "id": "civsLFDKNaXG",
        "outputId": "4f7207eb-3401-4cfa-c36b-59f29c6f98c6"
      },
      "execution_count": null,
      "outputs": [
        {
          "output_type": "stream",
          "name": "stdout",
          "text": [
            "[[ 0.11776606 -0.4224323  -0.45148469 -0.3026849 ]\n",
            " [-0.26478267  1.18754777  1.62022235  0.37986869]\n",
            " [ 0.08305338  0.52807808  1.78380053 -1.25805288]\n",
            " [ 0.30468393 -0.10724542  1.34051007 -2.02962493]]\n"
          ]
        }
      ]
    },
    {
      "cell_type": "code",
      "source": [
        "print(\"원본 행렬 a:\\n{}\".format(a))"
      ],
      "metadata": {
        "colab": {
          "base_uri": "https://localhost:8080/"
        },
        "id": "GrTHmiy0NrC_",
        "outputId": "492c9386-d716-4ca6-e0d8-68e0d86235fa"
      },
      "execution_count": null,
      "outputs": [
        {
          "output_type": "stream",
          "name": "stdout",
          "text": [
            "원본 행렬 a:\n",
            "[[-0.21203317 -0.28492917 -0.57389821 -0.44031017]\n",
            " [-0.33011056  1.18369457  1.61537293  0.36706247]\n",
            " [-0.01411931  0.6296418   1.70964074 -1.32698736]\n",
            " [ 0.40187312 -0.19142667  1.40382596 -1.96876855]]\n"
          ]
        }
      ]
    },
    {
      "cell_type": "code",
      "source": [
        "# 데이터가 선형 종속인 경우에는...?\n",
        "a[2] = a[0] + a[1]\n",
        "a[3] = a[0]\n",
        "\n",
        "a"
      ],
      "metadata": {
        "colab": {
          "base_uri": "https://localhost:8080/"
        },
        "id": "6UN5FJubNtF3",
        "outputId": "8813d67f-0070-49a4-86f6-b2b9e57c4cd9"
      },
      "execution_count": null,
      "outputs": [
        {
          "output_type": "execute_result",
          "data": {
            "text/plain": [
              "array([[-0.21203317, -0.28492917, -0.57389821, -0.44031017],\n",
              "       [-0.33011056,  1.18369457,  1.61537293,  0.36706247],\n",
              "       [-0.54214372,  0.8987654 ,  1.04147472, -0.0732477 ],\n",
              "       [-0.21203317, -0.28492917, -0.57389821, -0.44031017]])"
            ]
          },
          "metadata": {},
          "execution_count": 12
        }
      ]
    },
    {
      "cell_type": "code",
      "source": [
        "U, Sigma, VT = np.linalg.svd(a)\n",
        "np.round(Sigma, 3)"
      ],
      "metadata": {
        "colab": {
          "base_uri": "https://localhost:8080/"
        },
        "id": "RNQCuglKOIrJ",
        "outputId": "b8389f2b-5c0e-44ca-833d-552c4444d689"
      },
      "execution_count": null,
      "outputs": [
        {
          "output_type": "execute_result",
          "data": {
            "text/plain": [
              "array([2.663, 0.807, 0.   , 0.   ])"
            ]
          },
          "metadata": {},
          "execution_count": 14
        }
      ]
    },
    {
      "cell_type": "markdown",
      "source": [
        "사이파이를 이용한 특이분해"
      ],
      "metadata": {
        "id": "TtqsLc28Ov33"
      }
    },
    {
      "cell_type": "code",
      "source": [
        "import numpy as np\n",
        "from scipy.sparse.linalg import svds\n",
        "from scipy.linalg import svd # 넘파이의 svd와 똑같은 기능을 한다.\n",
        "\n",
        "np.random.seed(121)"
      ],
      "metadata": {
        "id": "jrI1c5QsPNyZ"
      },
      "execution_count": null,
      "outputs": []
    },
    {
      "cell_type": "code",
      "source": [
        "matrix = np.random.random((6, 6))\n",
        "print(\"원본 행렬 : \\n{}\".format(matrix))"
      ],
      "metadata": {
        "colab": {
          "base_uri": "https://localhost:8080/"
        },
        "id": "f-jYbihePkuK",
        "outputId": "9385687e-1f30-4011-85fc-4cc5461c5525"
      },
      "execution_count": null,
      "outputs": [
        {
          "output_type": "stream",
          "name": "stdout",
          "text": [
            "원본 행렬 : \n",
            "[[0.11133083 0.21076757 0.23296249 0.15194456 0.83017814 0.40791941]\n",
            " [0.5557906  0.74552394 0.24849976 0.9686594  0.95268418 0.48984885]\n",
            " [0.01829731 0.85760612 0.40493829 0.62247394 0.29537149 0.92958852]\n",
            " [0.4056155  0.56730065 0.24575605 0.22573721 0.03827786 0.58098021]\n",
            " [0.82925331 0.77326256 0.94693849 0.73632338 0.67328275 0.74517176]\n",
            " [0.51161442 0.46920965 0.6439515  0.82081228 0.14548493 0.01806415]]\n"
          ]
        }
      ]
    },
    {
      "cell_type": "code",
      "source": [
        "# full_matrices = False -> Compact SVD 수행\n",
        "U, Sigma, VT = svd(matrix, full_matrices=False)\n",
        "print(U.shape, Sigma.shape, VT.shape)"
      ],
      "metadata": {
        "colab": {
          "base_uri": "https://localhost:8080/"
        },
        "id": "lNbQMkCUPqAX",
        "outputId": "c000f2d3-2357-463b-b058-af9b73acb286"
      },
      "execution_count": null,
      "outputs": [
        {
          "output_type": "stream",
          "name": "stdout",
          "text": [
            "(6, 6) (6,) (6, 6)\n"
          ]
        }
      ]
    },
    {
      "cell_type": "code",
      "source": [
        "np.round(Sigma, 3)"
      ],
      "metadata": {
        "colab": {
          "base_uri": "https://localhost:8080/"
        },
        "id": "Cvc2vnFzQEWJ",
        "outputId": "aed79ce0-ff18-40a2-c6c3-9c01e146e2e7"
      },
      "execution_count": null,
      "outputs": [
        {
          "output_type": "execute_result",
          "data": {
            "text/plain": [
              "array([3.254, 0.881, 0.839, 0.555, 0.358, 0.035])"
            ]
          },
          "metadata": {},
          "execution_count": 19
        }
      ]
    },
    {
      "cell_type": "code",
      "source": [
        "# svds : truncated svd를 손쉽게 수행\n",
        "num_components = 4\n",
        "\n",
        "U_truncated, Sigma_truncated, VT_truncated = svds(matrix, k=num_components)\n",
        "U_truncated.shape, Sigma_truncated.shape, VT_truncated.shape"
      ],
      "metadata": {
        "colab": {
          "base_uri": "https://localhost:8080/"
        },
        "id": "327WfEQlQJIv",
        "outputId": "749831c7-1b92-48ac-dcae-3a4b03d0d907"
      },
      "execution_count": null,
      "outputs": [
        {
          "output_type": "execute_result",
          "data": {
            "text/plain": [
              "((6, 4), (4,), (4, 6))"
            ]
          },
          "metadata": {},
          "execution_count": 20
        }
      ]
    },
    {
      "cell_type": "markdown",
      "source": [
        "# 사이킷런에서 Truncated SVD"
      ],
      "metadata": {
        "id": "JgVfF3s9Qr7K"
      }
    },
    {
      "cell_type": "code",
      "source": [
        "from sklearn.decomposition import TruncatedSVD\n",
        "from sklearn.datasets import load_iris\n",
        "import matplotlib.pyplot as plt\n",
        "import seaborn as sns\n",
        "\n",
        "iris = load_iris()"
      ],
      "metadata": {
        "id": "2QlLxQy2Q-Fo"
      },
      "execution_count": null,
      "outputs": []
    },
    {
      "cell_type": "code",
      "source": [
        "tsvd = TruncatedSVD(n_components=2)\n",
        "tsvd.fit(iris.data)\n",
        "\n",
        "iris_tsvd = tsvd.transform(iris.data)\n",
        "iris_tsvd.shape"
      ],
      "metadata": {
        "colab": {
          "base_uri": "https://localhost:8080/"
        },
        "id": "_YkoRGCFSFEw",
        "outputId": "b3ccb830-124c-484b-802a-f9b146963ea5"
      },
      "execution_count": null,
      "outputs": [
        {
          "output_type": "execute_result",
          "data": {
            "text/plain": [
              "(150, 2)"
            ]
          },
          "metadata": {},
          "execution_count": 41
        }
      ]
    },
    {
      "cell_type": "code",
      "source": [
        "import pandas as pd\n",
        "\n",
        "iris_tsvd_df = pd.DataFrame(\n",
        "    data=iris_tsvd,\n",
        "    columns=[\"component_1\", \"component_2\"]\n",
        ")\n",
        "\n",
        "iris_tsvd_df['target'] = iris.target\n",
        "iris_tsvd_df.head()"
      ],
      "metadata": {
        "colab": {
          "base_uri": "https://localhost:8080/",
          "height": 206
        },
        "id": "aVXS4IDoUkuB",
        "outputId": "be99f226-df5f-45cf-d2f0-ab6d8dfb30e4"
      },
      "execution_count": null,
      "outputs": [
        {
          "output_type": "execute_result",
          "data": {
            "text/plain": [
              "   component_1  component_2  target\n",
              "0     5.912747     2.302033       0\n",
              "1     5.572482     1.971826       0\n",
              "2     5.446977     2.095206       0\n",
              "3     5.436459     1.870382       0\n",
              "4     5.875645     2.328290       0"
            ],
            "text/html": [
              "\n",
              "  <div id=\"df-84fa3948-214f-4b9a-8d2a-6729256f358b\">\n",
              "    <div class=\"colab-df-container\">\n",
              "      <div>\n",
              "<style scoped>\n",
              "    .dataframe tbody tr th:only-of-type {\n",
              "        vertical-align: middle;\n",
              "    }\n",
              "\n",
              "    .dataframe tbody tr th {\n",
              "        vertical-align: top;\n",
              "    }\n",
              "\n",
              "    .dataframe thead th {\n",
              "        text-align: right;\n",
              "    }\n",
              "</style>\n",
              "<table border=\"1\" class=\"dataframe\">\n",
              "  <thead>\n",
              "    <tr style=\"text-align: right;\">\n",
              "      <th></th>\n",
              "      <th>component_1</th>\n",
              "      <th>component_2</th>\n",
              "      <th>target</th>\n",
              "    </tr>\n",
              "  </thead>\n",
              "  <tbody>\n",
              "    <tr>\n",
              "      <th>0</th>\n",
              "      <td>5.912747</td>\n",
              "      <td>2.302033</td>\n",
              "      <td>0</td>\n",
              "    </tr>\n",
              "    <tr>\n",
              "      <th>1</th>\n",
              "      <td>5.572482</td>\n",
              "      <td>1.971826</td>\n",
              "      <td>0</td>\n",
              "    </tr>\n",
              "    <tr>\n",
              "      <th>2</th>\n",
              "      <td>5.446977</td>\n",
              "      <td>2.095206</td>\n",
              "      <td>0</td>\n",
              "    </tr>\n",
              "    <tr>\n",
              "      <th>3</th>\n",
              "      <td>5.436459</td>\n",
              "      <td>1.870382</td>\n",
              "      <td>0</td>\n",
              "    </tr>\n",
              "    <tr>\n",
              "      <th>4</th>\n",
              "      <td>5.875645</td>\n",
              "      <td>2.328290</td>\n",
              "      <td>0</td>\n",
              "    </tr>\n",
              "  </tbody>\n",
              "</table>\n",
              "</div>\n",
              "      <button class=\"colab-df-convert\" onclick=\"convertToInteractive('df-84fa3948-214f-4b9a-8d2a-6729256f358b')\"\n",
              "              title=\"Convert this dataframe to an interactive table.\"\n",
              "              style=\"display:none;\">\n",
              "        \n",
              "  <svg xmlns=\"http://www.w3.org/2000/svg\" height=\"24px\"viewBox=\"0 0 24 24\"\n",
              "       width=\"24px\">\n",
              "    <path d=\"M0 0h24v24H0V0z\" fill=\"none\"/>\n",
              "    <path d=\"M18.56 5.44l.94 2.06.94-2.06 2.06-.94-2.06-.94-.94-2.06-.94 2.06-2.06.94zm-11 1L8.5 8.5l.94-2.06 2.06-.94-2.06-.94L8.5 2.5l-.94 2.06-2.06.94zm10 10l.94 2.06.94-2.06 2.06-.94-2.06-.94-.94-2.06-.94 2.06-2.06.94z\"/><path d=\"M17.41 7.96l-1.37-1.37c-.4-.4-.92-.59-1.43-.59-.52 0-1.04.2-1.43.59L10.3 9.45l-7.72 7.72c-.78.78-.78 2.05 0 2.83L4 21.41c.39.39.9.59 1.41.59.51 0 1.02-.2 1.41-.59l7.78-7.78 2.81-2.81c.8-.78.8-2.07 0-2.86zM5.41 20L4 18.59l7.72-7.72 1.47 1.35L5.41 20z\"/>\n",
              "  </svg>\n",
              "      </button>\n",
              "      \n",
              "  <style>\n",
              "    .colab-df-container {\n",
              "      display:flex;\n",
              "      flex-wrap:wrap;\n",
              "      gap: 12px;\n",
              "    }\n",
              "\n",
              "    .colab-df-convert {\n",
              "      background-color: #E8F0FE;\n",
              "      border: none;\n",
              "      border-radius: 50%;\n",
              "      cursor: pointer;\n",
              "      display: none;\n",
              "      fill: #1967D2;\n",
              "      height: 32px;\n",
              "      padding: 0 0 0 0;\n",
              "      width: 32px;\n",
              "    }\n",
              "\n",
              "    .colab-df-convert:hover {\n",
              "      background-color: #E2EBFA;\n",
              "      box-shadow: 0px 1px 2px rgba(60, 64, 67, 0.3), 0px 1px 3px 1px rgba(60, 64, 67, 0.15);\n",
              "      fill: #174EA6;\n",
              "    }\n",
              "\n",
              "    [theme=dark] .colab-df-convert {\n",
              "      background-color: #3B4455;\n",
              "      fill: #D2E3FC;\n",
              "    }\n",
              "\n",
              "    [theme=dark] .colab-df-convert:hover {\n",
              "      background-color: #434B5C;\n",
              "      box-shadow: 0px 1px 3px 1px rgba(0, 0, 0, 0.15);\n",
              "      filter: drop-shadow(0px 1px 2px rgba(0, 0, 0, 0.3));\n",
              "      fill: #FFFFFF;\n",
              "    }\n",
              "  </style>\n",
              "\n",
              "      <script>\n",
              "        const buttonEl =\n",
              "          document.querySelector('#df-84fa3948-214f-4b9a-8d2a-6729256f358b button.colab-df-convert');\n",
              "        buttonEl.style.display =\n",
              "          google.colab.kernel.accessAllowed ? 'block' : 'none';\n",
              "\n",
              "        async function convertToInteractive(key) {\n",
              "          const element = document.querySelector('#df-84fa3948-214f-4b9a-8d2a-6729256f358b');\n",
              "          const dataTable =\n",
              "            await google.colab.kernel.invokeFunction('convertToInteractive',\n",
              "                                                     [key], {});\n",
              "          if (!dataTable) return;\n",
              "\n",
              "          const docLinkHtml = 'Like what you see? Visit the ' +\n",
              "            '<a target=\"_blank\" href=https://colab.research.google.com/notebooks/data_table.ipynb>data table notebook</a>'\n",
              "            + ' to learn more about interactive tables.';\n",
              "          element.innerHTML = '';\n",
              "          dataTable['output_type'] = 'display_data';\n",
              "          await google.colab.output.renderOutput(dataTable, element);\n",
              "          const docLink = document.createElement('div');\n",
              "          docLink.innerHTML = docLinkHtml;\n",
              "          element.appendChild(docLink);\n",
              "        }\n",
              "      </script>\n",
              "    </div>\n",
              "  </div>\n",
              "  "
            ]
          },
          "metadata": {},
          "execution_count": 42
        }
      ]
    },
    {
      "cell_type": "code",
      "source": [
        "sns.scatterplot(\n",
        "    x=\"component_1\",\n",
        "    y=\"component_2\",\n",
        "    hue='target',\n",
        "    palette='muted',\n",
        "    data=iris_tsvd_df\n",
        ")\n",
        "\n",
        "plt.show()"
      ],
      "metadata": {
        "colab": {
          "base_uri": "https://localhost:8080/",
          "height": 449
        },
        "id": "3z49RexpU6Oi",
        "outputId": "8e0c4b28-d749-40bc-f70e-4b4c03931d11"
      },
      "execution_count": null,
      "outputs": [
        {
          "output_type": "display_data",
          "data": {
            "text/plain": [
              "<Figure size 640x480 with 1 Axes>"
            ],
            "image/png": "[encoded data removed]"
          },
          "metadata": {}
        }
      ]
    },
    {
      "cell_type": "code",
      "source": [
        "from sklearn.preprocessing import StandardScaler\n",
        "from sklearn.decomposition import PCA\n",
        "# iris 데이터를 StandardScaler로 변환\n",
        "scaler = StandardScaler()\n",
        "iris_scaled = scaler.fit_transform(iris.data)\n",
        "\n",
        "# 스케일링된 데이터를 기반으로 TruncatedSVD 변환 수행 \n",
        "tsvd = TruncatedSVD(n_components=2)\n",
        "tsvd.fit(iris_scaled)\n",
        "iris_tsvd = tsvd.transform(iris_scaled)\n",
        "\n",
        "# 스케일링된 데이터를 기반으로 PCA 변환 수행 \n",
        "pca = PCA(n_components=2)\n",
        "pca.fit(iris_scaled)\n",
        "iris_pca = pca.transform(iris_scaled)\n",
        "\n",
        "# TruncatedSVD 변환 데이터를 왼쪽에, PCA변환 데이터를 오른쪽에 표현 \n",
        "fig, (ax1, ax2) = plt.subplots(figsize=(9,4), ncols=2)\n",
        "ax1.scatter(x=iris_tsvd[:,0], y= iris_tsvd[:,1], c= iris.target)\n",
        "ax2.scatter(x=iris_pca[:,0], y= iris_pca[:,1], c= iris.target)\n",
        "ax1.set_title('Truncated SVD Transformed')\n",
        "ax2.set_title('PCA Transformed')"
      ],
      "metadata": {
        "colab": {
          "base_uri": "https://localhost:8080/",
          "height": 409
        },
        "id": "qUcgBD41VXUJ",
        "outputId": "c208636d-4730-4654-9da9-8296c9da9919"
      },
      "execution_count": null,
      "outputs": [
        {
          "output_type": "execute_result",
          "data": {
            "text/plain": [
              "Text(0.5, 1.0, 'PCA Transformed')"
            ]
          },
          "metadata": {},
          "execution_count": 46
        },
        {
          "output_type": "display_data",
          "data": {
            "text/plain": [
              "<Figure size 900x400 with 2 Axes>"
            ],
            "image/png": "[encoded data removed]"
          },
          "metadata": {}
        }
      ]
    },
    {
      "cell_type": "code",
      "source": [],
      "metadata": {
        "id": "gkLJPshwV4kC"
      },
      "execution_count": null,
      "outputs": []
    }
  ]
}